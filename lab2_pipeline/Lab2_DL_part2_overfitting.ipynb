{
 "cells": [
  {
   "cell_type": "markdown",
   "metadata": {
    "id": "NFmOh482SyEF",
    "pycharm": {
     "name": "#%% md\n"
    }
   },
   "source": [
    "## Lab 2\n",
    "### Part 2: Dealing with overfitting"
   ]
  },
  {
   "cell_type": "markdown",
   "metadata": {
    "id": "AjzAuO3oSvsI",
    "pycharm": {
     "name": "#%% md\n"
    }
   },
   "source": [
    "Today we work with [Fashion-MNIST dataset](https://github.com/zalandoresearch/fashion-mnist) (*hint: it is available in `torchvision`*).\n",
    "\n",
    "Your goal for today:\n",
    "1. Train a FC (fully-connected) network that achieves >= 0.885 test accuracy.\n",
    "2. Cause considerable overfitting by modifying the network (e.g. increasing the number of network parameters and/or layers) and demonstrate in in the appropriate way (e.g. plot loss and accurasy on train and validation set w.r.t. network complexity).\n",
    "3. Try to deal with overfitting (at least partially) by using regularization techniques (Dropout/Batchnorm/...) and demonstrate the results.\n",
    "\n",
    "__Please, write a small report describing your ideas, tries and achieved results in the end of this file.__\n",
    "\n",
    "*Note*: Tasks 2 and 3 are interrelated, in task 3 your goal is to make the network from task 2 less prone to overfitting. Task 1 is independent from 2 and 3.\n",
    "\n",
    "*Note 2*: We recomment to use Google Colab or other machine with GPU acceleration."
   ]
  },
  {
   "cell_type": "code",
   "execution_count": 2,
   "metadata": {
    "id": "_KBld6VOSwhW",
    "pycharm": {
     "name": "#%%\n"
    }
   },
   "outputs": [],
   "source": [
    "import torch\n",
    "import torch.nn as nn\n",
    "import torchvision\n",
    "import torchvision.transforms as transforms\n",
    "import torchsummary\n",
    "from IPython.display import clear_output\n",
    "from matplotlib import pyplot as plt\n",
    "from matplotlib.pyplot import figure\n",
    "import numpy as np\n",
    "import os\n",
    "\n",
    "\n",
    "device = 'cuda:0' if torch.cuda.is_available() else 'cpu'"
   ]
  },
  {
   "cell_type": "code",
   "execution_count": 3,
   "metadata": {
    "colab": {
     "base_uri": "https://localhost:8080/"
    },
    "id": "EdLOG0XqS_g5",
    "outputId": "ae3214ea-8eb3-41a7-bf28-6d887a60f431",
    "pycharm": {
     "name": "#%%\n"
    }
   },
   "outputs": [
    {
     "name": "stdout",
     "output_type": "stream",
     "text": [
      "Directory fmnist is created!\n"
     ]
    }
   ],
   "source": [
    "# Technical function\n",
    "def mkdir(path):\n",
    "    if not os.path.exists(root_path):\n",
    "        os.mkdir(root_path)\n",
    "        print('Directory', path, 'is created!')\n",
    "    else:\n",
    "        print('Directory', path, 'already exists!')\n",
    "\n",
    "root_path = 'fmnist'\n",
    "mkdir(root_path)"
   ]
  },
  {
   "cell_type": "code",
   "execution_count": 4,
   "metadata": {
    "colab": {
     "base_uri": "https://localhost:8080/"
    },
    "id": "qt6LE7XaTDT9",
    "outputId": "0984ab8e-04eb-4601-d1aa-d56423783016",
    "pycharm": {
     "name": "#%%\n"
    }
   },
   "outputs": [
    {
     "name": "stdout",
     "output_type": "stream",
     "text": [
      "Downloading http://fashion-mnist.s3-website.eu-central-1.amazonaws.com/train-images-idx3-ubyte.gz\n",
      "Downloading http://fashion-mnist.s3-website.eu-central-1.amazonaws.com/train-images-idx3-ubyte.gz to fmnist/FashionMNIST/raw/train-images-idx3-ubyte.gz\n"
     ]
    },
    {
     "name": "stderr",
     "output_type": "stream",
     "text": [
      "100%|██████████████████████████| 26421880/26421880 [00:04<00:00, 6204527.06it/s]\n"
     ]
    },
    {
     "name": "stdout",
     "output_type": "stream",
     "text": [
      "Extracting fmnist/FashionMNIST/raw/train-images-idx3-ubyte.gz to fmnist/FashionMNIST/raw\n",
      "\n",
      "Downloading http://fashion-mnist.s3-website.eu-central-1.amazonaws.com/train-labels-idx1-ubyte.gz\n",
      "Downloading http://fashion-mnist.s3-website.eu-central-1.amazonaws.com/train-labels-idx1-ubyte.gz to fmnist/FashionMNIST/raw/train-labels-idx1-ubyte.gz\n"
     ]
    },
    {
     "name": "stderr",
     "output_type": "stream",
     "text": [
      "100%|█████████████████████████████████| 29515/29515 [00:00<00:00, 349119.22it/s]\n"
     ]
    },
    {
     "name": "stdout",
     "output_type": "stream",
     "text": [
      "Extracting fmnist/FashionMNIST/raw/train-labels-idx1-ubyte.gz to fmnist/FashionMNIST/raw\n",
      "\n",
      "Downloading http://fashion-mnist.s3-website.eu-central-1.amazonaws.com/t10k-images-idx3-ubyte.gz\n",
      "Downloading http://fashion-mnist.s3-website.eu-central-1.amazonaws.com/t10k-images-idx3-ubyte.gz to fmnist/FashionMNIST/raw/t10k-images-idx3-ubyte.gz\n"
     ]
    },
    {
     "name": "stderr",
     "output_type": "stream",
     "text": [
      "100%|████████████████████████████| 4422102/4422102 [00:01<00:00, 3134446.70it/s]\n"
     ]
    },
    {
     "name": "stdout",
     "output_type": "stream",
     "text": [
      "Extracting fmnist/FashionMNIST/raw/t10k-images-idx3-ubyte.gz to fmnist/FashionMNIST/raw\n",
      "\n",
      "Downloading http://fashion-mnist.s3-website.eu-central-1.amazonaws.com/t10k-labels-idx1-ubyte.gz\n",
      "Downloading http://fashion-mnist.s3-website.eu-central-1.amazonaws.com/t10k-labels-idx1-ubyte.gz to fmnist/FashionMNIST/raw/t10k-labels-idx1-ubyte.gz\n"
     ]
    },
    {
     "name": "stderr",
     "output_type": "stream",
     "text": [
      "100%|█████████████████████████████████| 5148/5148 [00:00<00:00, 28114944.00it/s]"
     ]
    },
    {
     "name": "stdout",
     "output_type": "stream",
     "text": [
      "Extracting fmnist/FashionMNIST/raw/t10k-labels-idx1-ubyte.gz to fmnist/FashionMNIST/raw\n",
      "\n"
     ]
    },
    {
     "name": "stderr",
     "output_type": "stream",
     "text": [
      "\n"
     ]
    }
   ],
   "source": [
    "download = True\n",
    "train_transform = transforms.ToTensor()\n",
    "test_transform = transforms.ToTensor()\n",
    "transforms.Compose((transforms.ToTensor()))\n",
    "\n",
    "\n",
    "fmnist_dataset_train = torchvision.datasets.FashionMNIST(root_path,\n",
    "                                                        train=True,\n",
    "                                                        transform=train_transform,\n",
    "                                                        target_transform=None,\n",
    "                                                        download=download)\n",
    "fmnist_dataset_test = torchvision.datasets.FashionMNIST(root_path,\n",
    "                                                       train=False,\n",
    "                                                       transform=test_transform,\n",
    "                                                       target_transform=None,\n",
    "                                                       download=download)"
   ]
  },
  {
   "cell_type": "code",
   "execution_count": 5,
   "metadata": {
    "id": "71YP0SPwTIxD",
    "pycharm": {
     "name": "#%%\n"
    }
   },
   "outputs": [],
   "source": [
    "train_loader = torch.utils.data.DataLoader(fmnist_dataset_train,\n",
    "                                           batch_size=128,\n",
    "                                           shuffle=True,\n",
    "                                           num_workers=2)\n",
    "test_loader = torch.utils.data.DataLoader(fmnist_dataset_test,\n",
    "                                          batch_size=256,\n",
    "                                          shuffle=False,\n",
    "                                          num_workers=2)"
   ]
  },
  {
   "cell_type": "code",
   "execution_count": 6,
   "metadata": {
    "colab": {
     "base_uri": "https://localhost:8080/"
    },
    "id": "v_YFmF7NTWrQ",
    "outputId": "dd617278-b97c-4440-a969-6c93aaf1faf1",
    "pycharm": {
     "name": "#%%\n"
    }
   },
   "outputs": [
    {
     "data": {
      "text/plain": [
       "10000"
      ]
     },
     "execution_count": 6,
     "metadata": {},
     "output_type": "execute_result"
    }
   ],
   "source": [
    "len(fmnist_dataset_test)"
   ]
  },
  {
   "cell_type": "code",
   "execution_count": 9,
   "metadata": {
    "colab": {
     "base_uri": "https://localhost:8080/"
    },
    "id": "aHca15bOTY4B",
    "outputId": "ebae415e-f753-41f2-d719-3c7c1b3df839",
    "pycharm": {
     "name": "#%%\n"
    }
   },
   "outputs": [
    {
     "name": "stdout",
     "output_type": "stream",
     "text": [
      "Image shape torch.Size([128, 1, 28, 28])\n",
      "label shape torch.Size([128])\n",
      "label sizw 128\n"
     ]
    }
   ],
   "source": [
    "for img, label in train_loader:\n",
    "    print(f'Image shape {img.shape}')\n",
    "    print(f'label shape {label.shape}')\n",
    "    print(f'label sizw {label.size(0)}')\n",
    "    break"
   ]
  },
  {
   "cell_type": "markdown",
   "metadata": {
    "id": "b6OOOffHTfX5",
    "pycharm": {
     "name": "#%% md\n"
    }
   },
   "source": [
    "### Task 1\n",
    "Train a network that achieves $\\geq 0.885$ test accuracy. It's fine to use only Linear (`nn.Linear`) layers and activations/dropout/batchnorm. Convolutional layers might be a great use, but we will meet them a bit later."
   ]
  },
  {
   "cell_type": "code",
   "execution_count": 39,
   "metadata": {
    "colab": {
     "base_uri": "https://localhost:8080/"
    },
    "id": "zG-pWmbY2X61",
    "outputId": "1b96e01b-a385-4956-91a5-46e82d8c9e34",
    "pycharm": {
     "name": "#%%\n"
    }
   },
   "outputs": [
    {
     "name": "stdout",
     "output_type": "stream",
     "text": [
      "Epoch [1/10], Train Loss: 0.4736, Train Accuracy: 0.8483, Test Accuracy: 0.8633\n",
      "Epoch [2/10], Train Loss: 0.3301, Train Accuracy: 0.8854, Test Accuracy: 0.8752\n",
      "Epoch [3/10], Train Loss: 0.2903, Train Accuracy: 0.8987, Test Accuracy: 0.8827\n",
      "Epoch [4/10], Train Loss: 0.2648, Train Accuracy: 0.9072, Test Accuracy: 0.8836\n",
      "Epoch [5/10], Train Loss: 0.2443, Train Accuracy: 0.9145, Test Accuracy: 0.8861\n",
      "Epoch [6/10], Train Loss: 0.2280, Train Accuracy: 0.9197, Test Accuracy: 0.8889\n",
      "Epoch [7/10], Train Loss: 0.2145, Train Accuracy: 0.9261, Test Accuracy: 0.8948\n",
      "Epoch [8/10], Train Loss: 0.2017, Train Accuracy: 0.9301, Test Accuracy: 0.8879\n",
      "Epoch [9/10], Train Loss: 0.1910, Train Accuracy: 0.9337, Test Accuracy: 0.8928\n",
      "Epoch [10/10], Train Loss: 0.1796, Train Accuracy: 0.9388, Test Accuracy: 0.8953\n"
     ]
    }
   ],
   "source": [
    "class TinyNeuralNetwork(nn.Module):\n",
    "    def __init__(self, input_shape=28*28, num_classes=10, input_channels=1):\n",
    "        super(TinyNeuralNetwork, self).__init__()\n",
    "        self.model = nn.Sequential(\n",
    "            nn.Flatten(),\n",
    "            nn.Linear(input_shape, 500),\n",
    "            nn.BatchNorm1d(500),\n",
    "            nn.ReLU(),\n",
    "            nn.Linear(500, 100),\n",
    "            nn.BatchNorm1d(100),\n",
    "            nn.ReLU(),\n",
    "            nn.Linear(100, num_classes)\n",
    "            \n",
    "            \n",
    "        )\n",
    "\n",
    "    def forward(self, inp):\n",
    "        out = self.model(inp)\n",
    "        return out\n",
    "\n",
    "model = TinyNeuralNetwork().to(device)\n",
    "optimizer = torch.optim.Adagrad(model.parameters(), lr=3e-3)\n",
    "loss_func = nn.CrossEntropyLoss()\n",
    "train_losses = []\n",
    "test_losses = []\n",
    "train_accs = []\n",
    "test_accs = []\n",
    "\n",
    "# Training loop\n",
    "num_epochs = 10\n",
    "\n",
    "for epoch in range(num_epochs):\n",
    "    model.train()\n",
    "    train_loss = 0.0\n",
    "    train_correct = 0\n",
    "\n",
    "    for images, labels in train_loader:\n",
    "        images = images.to(device)\n",
    "        labels = labels.to(device)\n",
    "\n",
    "        optimizer.zero_grad()\n",
    "        outputs = model(images)\n",
    "        loss = loss_func(outputs, labels)\n",
    "        loss.backward()\n",
    "        optimizer.step()\n",
    "\n",
    "        train_loss += loss.item()\n",
    "        _, predicted = torch.max(outputs, 1)\n",
    "        train_correct += (predicted == labels).sum().item()\n",
    "\n",
    "    train_loss /= len(train_loader)\n",
    "    train_accuracy = train_correct / len(fmnist_dataset_train)\n",
    "    train_losses.append(train_loss)\n",
    "    train_accs.append(train_accuracy)\n",
    "\n",
    "    model.eval()\n",
    "    test_correct = 0\n",
    "    test_loss = 0.0\n",
    "    for images, labels in test_loader:\n",
    "        images = images.to(device)\n",
    "        labels = labels.to(device)\n",
    "        model.eval()\n",
    "        with torch.no_grad():\n",
    "            outputs = model(images)\n",
    "            _, predicted = torch.max(outputs, 1)\n",
    "            loss = loss_func(outputs, labels)\n",
    "            test_loss += loss.item()\n",
    "            test_correct += (predicted == labels).sum().item()\n",
    "            test_accuracy = test_correct / len(fmnist_dataset_test)\n",
    "    test_loss /= len(test_loader)\n",
    "    test_accuracy = test_correct / len(fmnist_dataset_test)\n",
    "    test_losses.append(test_loss)\n",
    "    test_accs.append(test_accuracy)\n",
    "    \n",
    "\n",
    "    print(f\"Epoch [{epoch+1}/{num_epochs}], Train Loss: {train_loss:.4f}, Train Accuracy: {train_accuracy:.4f}, Test Accuracy: {test_accuracy:.4f}\")\n"
   ]
  },
  {
   "cell_type": "markdown",
   "metadata": {
    "id": "L7ISqkjmCPB1",
    "pycharm": {
     "name": "#%% md\n"
    }
   },
   "source": [
    "### Task 2: Overfit it.\n",
    "Build a network that will overfit to this dataset. Demonstrate the overfitting in the appropriate way (e.g. plot loss and accurasy on train and test set w.r.t. network complexity).\n",
    "\n",
    "*Note:* you also might decrease the size of `train` dataset to enforce the overfitting and speed up the computations."
   ]
  },
  {
   "cell_type": "code",
   "execution_count": 48,
   "metadata": {
    "colab": {
     "base_uri": "https://localhost:8080/"
    },
    "id": "8yGyzSYG2dAL",
    "outputId": "8be67614-b899-4d1d-82ca-d84d59d11ac7",
    "pycharm": {
     "name": "#%%\n"
    }
   },
   "outputs": [
    {
     "name": "stdout",
     "output_type": "stream",
     "text": [
      "Epoch [1/40], Train Loss: 0.4689, Train Accuracy: 0.8495, Test Accuracy: 0.8572\n",
      "Epoch [2/40], Train Loss: 0.3305, Train Accuracy: 0.8869, Test Accuracy: 0.8681\n",
      "Epoch [3/40], Train Loss: 0.2915, Train Accuracy: 0.8977, Test Accuracy: 0.8766\n",
      "Epoch [4/40], Train Loss: 0.2661, Train Accuracy: 0.9069, Test Accuracy: 0.8577\n",
      "Epoch [5/40], Train Loss: 0.2461, Train Accuracy: 0.9134, Test Accuracy: 0.8853\n",
      "Epoch [6/40], Train Loss: 0.2289, Train Accuracy: 0.9207, Test Accuracy: 0.8887\n",
      "Epoch [7/40], Train Loss: 0.2147, Train Accuracy: 0.9263, Test Accuracy: 0.8888\n",
      "Epoch [8/40], Train Loss: 0.2023, Train Accuracy: 0.9304, Test Accuracy: 0.8866\n",
      "Epoch [9/40], Train Loss: 0.1902, Train Accuracy: 0.9346, Test Accuracy: 0.8822\n",
      "Epoch [10/40], Train Loss: 0.1801, Train Accuracy: 0.9391, Test Accuracy: 0.8936\n",
      "Epoch [11/40], Train Loss: 0.1723, Train Accuracy: 0.9413, Test Accuracy: 0.8922\n",
      "Epoch [12/40], Train Loss: 0.1627, Train Accuracy: 0.9447, Test Accuracy: 0.8925\n",
      "Epoch [13/40], Train Loss: 0.1538, Train Accuracy: 0.9481, Test Accuracy: 0.8905\n",
      "Epoch [14/40], Train Loss: 0.1465, Train Accuracy: 0.9515, Test Accuracy: 0.8906\n",
      "Epoch [15/40], Train Loss: 0.1386, Train Accuracy: 0.9550, Test Accuracy: 0.8919\n",
      "Epoch [16/40], Train Loss: 0.1326, Train Accuracy: 0.9567, Test Accuracy: 0.8956\n",
      "Epoch [17/40], Train Loss: 0.1255, Train Accuracy: 0.9601, Test Accuracy: 0.8934\n",
      "Epoch [18/40], Train Loss: 0.1207, Train Accuracy: 0.9621, Test Accuracy: 0.8896\n",
      "Epoch [19/40], Train Loss: 0.1160, Train Accuracy: 0.9635, Test Accuracy: 0.8958\n",
      "Epoch [20/40], Train Loss: 0.1106, Train Accuracy: 0.9659, Test Accuracy: 0.8966\n",
      "Epoch [21/40], Train Loss: 0.1045, Train Accuracy: 0.9679, Test Accuracy: 0.8920\n",
      "Epoch [22/40], Train Loss: 0.1010, Train Accuracy: 0.9694, Test Accuracy: 0.8776\n",
      "Epoch [23/40], Train Loss: 0.0973, Train Accuracy: 0.9705, Test Accuracy: 0.8941\n",
      "Epoch [24/40], Train Loss: 0.0923, Train Accuracy: 0.9728, Test Accuracy: 0.8930\n",
      "Epoch [25/40], Train Loss: 0.0890, Train Accuracy: 0.9739, Test Accuracy: 0.8872\n",
      "Epoch [26/40], Train Loss: 0.0859, Train Accuracy: 0.9754, Test Accuracy: 0.8975\n",
      "Epoch [27/40], Train Loss: 0.0815, Train Accuracy: 0.9769, Test Accuracy: 0.8964\n",
      "Epoch [28/40], Train Loss: 0.0783, Train Accuracy: 0.9771, Test Accuracy: 0.8952\n",
      "Epoch [29/40], Train Loss: 0.0756, Train Accuracy: 0.9795, Test Accuracy: 0.8878\n",
      "Epoch [30/40], Train Loss: 0.0724, Train Accuracy: 0.9801, Test Accuracy: 0.8949\n",
      "Epoch [31/40], Train Loss: 0.0690, Train Accuracy: 0.9815, Test Accuracy: 0.8873\n",
      "Epoch [32/40], Train Loss: 0.0668, Train Accuracy: 0.9816, Test Accuracy: 0.8933\n",
      "Epoch [33/40], Train Loss: 0.0637, Train Accuracy: 0.9839, Test Accuracy: 0.8959\n",
      "Epoch [34/40], Train Loss: 0.0614, Train Accuracy: 0.9839, Test Accuracy: 0.8939\n",
      "Epoch [35/40], Train Loss: 0.0599, Train Accuracy: 0.9842, Test Accuracy: 0.8935\n",
      "Epoch [36/40], Train Loss: 0.0571, Train Accuracy: 0.9856, Test Accuracy: 0.8951\n",
      "Epoch [37/40], Train Loss: 0.0553, Train Accuracy: 0.9860, Test Accuracy: 0.8884\n",
      "Epoch [38/40], Train Loss: 0.0538, Train Accuracy: 0.9871, Test Accuracy: 0.8855\n",
      "Epoch [39/40], Train Loss: 0.0518, Train Accuracy: 0.9874, Test Accuracy: 0.8944\n",
      "Epoch [40/40], Train Loss: 0.0499, Train Accuracy: 0.9881, Test Accuracy: 0.8921\n"
     ]
    }
   ],
   "source": [
    "class OverfittingNeuralNetwork(nn.Module):\n",
    "    def __init__(self, input_shape=28*28, num_classes=10, input_channels=1):\n",
    "        super(OverfittingNeuralNetwork, self).__init__()\n",
    "        self.model = nn.Sequential(\n",
    "            nn.Flatten(),\n",
    "            nn.Linear(input_shape, 500),\n",
    "            nn.BatchNorm1d(500),\n",
    "            nn.ReLU(),\n",
    "            nn.Linear(500, 100),\n",
    "            nn.BatchNorm1d(100),\n",
    "            nn.ReLU(),\n",
    "            nn.Linear(100, num_classes) )\n",
    "    def forward(self, inp):\n",
    "        out = self.model(inp)\n",
    "        return out\n",
    "\n",
    "model = OverfittingNeuralNetwork().to(device)\n",
    "optimizer = torch.optim.Adagrad(model.parameters(), lr=3e-3)\n",
    "loss_func = nn.CrossEntropyLoss()\n",
    "train_losses = []\n",
    "test_losses = []\n",
    "train_accs = []\n",
    "test_accs = []\n",
    "\n",
    "# Training loop\n",
    "num_epochs = 40\n",
    "\n",
    "for epoch in range(num_epochs):\n",
    "    model.train()\n",
    "    train_loss = 0.0\n",
    "    train_correct = 0\n",
    "\n",
    "    for images, labels in train_loader:\n",
    "        images = images.to(device)\n",
    "        labels = labels.to(device)\n",
    "\n",
    "        optimizer.zero_grad()\n",
    "        outputs = model(images)\n",
    "        loss = loss_func(outputs, labels)\n",
    "        loss.backward()\n",
    "        optimizer.step()\n",
    "\n",
    "        train_loss += loss.item()\n",
    "        _, predicted = torch.max(outputs, 1)\n",
    "        train_correct += (predicted == labels).sum().item()\n",
    "\n",
    "    train_loss /= len(train_loader)\n",
    "    train_accuracy = train_correct / len(fmnist_dataset_train)\n",
    "    train_losses.append(train_loss)\n",
    "    train_accs.append(train_accuracy)\n",
    "\n",
    "    model.eval()\n",
    "    test_correct = 0\n",
    "    test_loss = 0.0\n",
    "    for images, labels in test_loader:\n",
    "        images = images.to(device)\n",
    "        labels = labels.to(device)\n",
    "        model.eval()\n",
    "        with torch.no_grad():\n",
    "            outputs = model(images)\n",
    "            _, predicted = torch.max(outputs, 1)\n",
    "            loss = loss_func(outputs, labels)\n",
    "            test_loss += loss.item()\n",
    "            test_correct += (predicted == labels).sum().item()\n",
    "            test_accuracy = test_correct / len(fmnist_dataset_test)\n",
    "    test_loss /= len(test_loader)\n",
    "    test_accuracy = test_correct / len(fmnist_dataset_test)\n",
    "    test_losses.append(test_loss)\n",
    "    test_accs.append(test_accuracy)\n",
    "    \n",
    "\n",
    "    print(f\"Epoch [{epoch+1}/{num_epochs}], Train Loss: {train_loss:.4f}, Train Accuracy: {train_accuracy:.4f}, Test Accuracy: {test_accuracy:.4f}\")\n"
   ]
  },
  {
   "cell_type": "code",
   "execution_count": 49,
   "metadata": {},
   "outputs": [
    {
     "data": {
      "text/plain": [
       "<matplotlib.legend.Legend at 0x7febdc903410>"
      ]
     },
     "execution_count": 49,
     "metadata": {},
     "output_type": "execute_result"
    },
    {
     "data": {
      "image/png": "[encoded data removed]",
      "text/plain": [
       "<Figure size 640x480 with 1 Axes>"
      ]
     },
     "metadata": {},
     "output_type": "display_data"
    }
   ],
   "source": [
    "plt.plot(train_losses)\n",
    "plt.plot(test_losses)\n",
    "plt.legend(['Train Loss', 'Test Loss'])"
   ]
  },
  {
   "cell_type": "code",
   "execution_count": 50,
   "metadata": {
    "scrolled": true
   },
   "outputs": [
    {
     "data": {
      "text/plain": [
       "<matplotlib.legend.Legend at 0x7febdc834250>"
      ]
     },
     "execution_count": 50,
     "metadata": {},
     "output_type": "execute_result"
    },
    {
     "data": {
      "image/png": "[encoded data removed]",
      "text/plain": [
       "<Figure size 640x480 with 1 Axes>"
      ]
     },
     "metadata": {},
     "output_type": "display_data"
    }
   ],
   "source": [
    "plt.plot(train_accs)\n",
    "plt.plot(test_accs)\n",
    "plt.legend(['Train Acc', 'Test Acc'])"
   ]
  },
  {
   "cell_type": "markdown",
   "metadata": {},
   "source": [
    "# Вывод:\n",
    "Как мы видим, модель не улучшается на тесте,а на трейне просто запоминает выборку. Два графика сверху символизируют о переобучении."
   ]
  },
  {
   "cell_type": "markdown",
   "metadata": {
    "id": "SiB3mBkP1Skx",
    "pycharm": {
     "name": "#%% md\n"
    }
   },
   "source": [
    "### Task 3: Fix it.\n",
    "Fix the overfitted network from the previous step (at least partially) by using regularization techniques (Dropout/Batchnorm/...) and demonstrate the results."
   ]
  },
  {
   "cell_type": "code",
   "execution_count": 59,
   "metadata": {
    "colab": {
     "base_uri": "https://localhost:8080/"
    },
    "id": "CdNixacp3B5o",
    "outputId": "0b08ebbd-6ad2-47bd-d918-af6ada63e0e9",
    "pycharm": {
     "name": "#%%\n"
    }
   },
   "outputs": [
    {
     "name": "stdout",
     "output_type": "stream",
     "text": [
      "Epoch [1/40], Train Loss: 0.7482, Train Accuracy: 0.7741, Test Accuracy: 0.8268\n",
      "Epoch [2/40], Train Loss: 0.5607, Train Accuracy: 0.8203, Test Accuracy: 0.8447\n",
      "Epoch [3/40], Train Loss: 0.5171, Train Accuracy: 0.8314, Test Accuracy: 0.8509\n",
      "Epoch [4/40], Train Loss: 0.4890, Train Accuracy: 0.8376, Test Accuracy: 0.8527\n",
      "Epoch [5/40], Train Loss: 0.4719, Train Accuracy: 0.8430, Test Accuracy: 0.8595\n",
      "Epoch [6/40], Train Loss: 0.4610, Train Accuracy: 0.8460, Test Accuracy: 0.8572\n",
      "Epoch [7/40], Train Loss: 0.4507, Train Accuracy: 0.8485, Test Accuracy: 0.8616\n",
      "Epoch [8/40], Train Loss: 0.4409, Train Accuracy: 0.8505, Test Accuracy: 0.8627\n",
      "Epoch [9/40], Train Loss: 0.4331, Train Accuracy: 0.8535, Test Accuracy: 0.8644\n",
      "Epoch [10/40], Train Loss: 0.4296, Train Accuracy: 0.8540, Test Accuracy: 0.8662\n",
      "Epoch [11/40], Train Loss: 0.4207, Train Accuracy: 0.8571, Test Accuracy: 0.8683\n",
      "Epoch [12/40], Train Loss: 0.4144, Train Accuracy: 0.8595, Test Accuracy: 0.8688\n",
      "Epoch [13/40], Train Loss: 0.4147, Train Accuracy: 0.8589, Test Accuracy: 0.8699\n",
      "Epoch [14/40], Train Loss: 0.4094, Train Accuracy: 0.8613, Test Accuracy: 0.8709\n",
      "Epoch [15/40], Train Loss: 0.4065, Train Accuracy: 0.8607, Test Accuracy: 0.8706\n",
      "Epoch [16/40], Train Loss: 0.4010, Train Accuracy: 0.8643, Test Accuracy: 0.8726\n",
      "Epoch [17/40], Train Loss: 0.3964, Train Accuracy: 0.8644, Test Accuracy: 0.8712\n",
      "Epoch [18/40], Train Loss: 0.3945, Train Accuracy: 0.8651, Test Accuracy: 0.8731\n",
      "Epoch [19/40], Train Loss: 0.3886, Train Accuracy: 0.8666, Test Accuracy: 0.8724\n",
      "Epoch [20/40], Train Loss: 0.3869, Train Accuracy: 0.8673, Test Accuracy: 0.8748\n",
      "Epoch [21/40], Train Loss: 0.3857, Train Accuracy: 0.8676, Test Accuracy: 0.8753\n",
      "Epoch [22/40], Train Loss: 0.3763, Train Accuracy: 0.8707, Test Accuracy: 0.8750\n",
      "Epoch [23/40], Train Loss: 0.3793, Train Accuracy: 0.8698, Test Accuracy: 0.8760\n",
      "Epoch [24/40], Train Loss: 0.3755, Train Accuracy: 0.8713, Test Accuracy: 0.8767\n",
      "Epoch [25/40], Train Loss: 0.3738, Train Accuracy: 0.8708, Test Accuracy: 0.8757\n",
      "Epoch [26/40], Train Loss: 0.3722, Train Accuracy: 0.8723, Test Accuracy: 0.8764\n",
      "Epoch [27/40], Train Loss: 0.3719, Train Accuracy: 0.8726, Test Accuracy: 0.8763\n",
      "Epoch [28/40], Train Loss: 0.3662, Train Accuracy: 0.8747, Test Accuracy: 0.8777\n",
      "Epoch [29/40], Train Loss: 0.3682, Train Accuracy: 0.8734, Test Accuracy: 0.8776\n",
      "Epoch [30/40], Train Loss: 0.3652, Train Accuracy: 0.8736, Test Accuracy: 0.8780\n",
      "Epoch [31/40], Train Loss: 0.3648, Train Accuracy: 0.8747, Test Accuracy: 0.8769\n",
      "Epoch [32/40], Train Loss: 0.3586, Train Accuracy: 0.8762, Test Accuracy: 0.8787\n",
      "Epoch [33/40], Train Loss: 0.3602, Train Accuracy: 0.8757, Test Accuracy: 0.8783\n",
      "Epoch [34/40], Train Loss: 0.3589, Train Accuracy: 0.8751, Test Accuracy: 0.8790\n",
      "Epoch [35/40], Train Loss: 0.3587, Train Accuracy: 0.8763, Test Accuracy: 0.8789\n",
      "Epoch [36/40], Train Loss: 0.3526, Train Accuracy: 0.8773, Test Accuracy: 0.8787\n",
      "Epoch [37/40], Train Loss: 0.3498, Train Accuracy: 0.8781, Test Accuracy: 0.8785\n",
      "Epoch [38/40], Train Loss: 0.3488, Train Accuracy: 0.8800, Test Accuracy: 0.8798\n",
      "Epoch [39/40], Train Loss: 0.3453, Train Accuracy: 0.8809, Test Accuracy: 0.8784\n",
      "Epoch [40/40], Train Loss: 0.3481, Train Accuracy: 0.8807, Test Accuracy: 0.8809\n"
     ]
    }
   ],
   "source": [
    "class FixedNeuralNetwork(nn.Module):\n",
    "    def __init__(self, input_shape=28*28, num_classes=10, input_channels=1):\n",
    "        super(FixedNeuralNetwork, self).__init__()\n",
    "        self.model = nn.Sequential(\n",
    "            nn.Flatten(),\n",
    "            nn.Linear(input_shape, 500),\n",
    "            nn.BatchNorm1d(500),\n",
    "            nn.Dropout(0.6),\n",
    "            nn.ReLU(),\n",
    "            nn.Linear(500, 100),\n",
    "            nn.BatchNorm1d(100),\n",
    "            nn.Dropout(0.6),\n",
    "            nn.ReLU(),\n",
    "            nn.Linear(100, num_classes) )\n",
    "    def forward(self, inp):\n",
    "        out = self.model(inp)\n",
    "        return out\n",
    "\n",
    "model = FixedNeuralNetwork().to(device)\n",
    "optimizer = torch.optim.Adagrad(model.parameters(), lr=3e-3)\n",
    "loss_func = nn.CrossEntropyLoss()\n",
    "train_losses = []\n",
    "test_losses = []\n",
    "train_accs = []\n",
    "test_accs = []\n",
    "\n",
    "# Training loop\n",
    "num_epochs = 40\n",
    "\n",
    "for epoch in range(num_epochs):\n",
    "    model.train()\n",
    "    train_loss = 0.0\n",
    "    train_correct = 0\n",
    "\n",
    "    for images, labels in train_loader:\n",
    "        images = images.to(device)\n",
    "        labels = labels.to(device)\n",
    "\n",
    "        optimizer.zero_grad()\n",
    "        outputs = model(images)\n",
    "        loss = loss_func(outputs, labels)\n",
    "        loss.backward()\n",
    "        optimizer.step()\n",
    "\n",
    "        train_loss += loss.item()\n",
    "        _, predicted = torch.max(outputs, 1)\n",
    "        train_correct += (predicted == labels).sum().item()\n",
    "\n",
    "    train_loss /= len(train_loader)\n",
    "    train_accuracy = train_correct / len(fmnist_dataset_train)\n",
    "    train_losses.append(train_loss)\n",
    "    train_accs.append(train_accuracy)\n",
    "\n",
    "    model.eval()\n",
    "    test_correct = 0\n",
    "    test_loss = 0.0\n",
    "    for images, labels in test_loader:\n",
    "        images = images.to(device)\n",
    "        labels = labels.to(device)\n",
    "        model.eval()\n",
    "        with torch.no_grad():\n",
    "            outputs = model(images)\n",
    "            _, predicted = torch.max(outputs, 1)\n",
    "            loss = loss_func(outputs, labels)\n",
    "            test_loss += loss.item()\n",
    "            test_correct += (predicted == labels).sum().item()\n",
    "            test_accuracy = test_correct / len(fmnist_dataset_test)\n",
    "    test_loss /= len(test_loader)\n",
    "    test_accuracy = test_correct / len(fmnist_dataset_test)\n",
    "    test_losses.append(test_loss)\n",
    "    test_accs.append(test_accuracy)\n",
    "    \n",
    "\n",
    "    print(f\"Epoch [{epoch+1}/{num_epochs}], Train Loss: {train_loss:.4f}, Train Accuracy: {train_accuracy:.4f}, Test Accuracy: {test_accuracy:.4f}\")\n"
   ]
  },
  {
   "cell_type": "code",
   "execution_count": 60,
   "metadata": {},
   "outputs": [
    {
     "data": {
      "text/plain": [
       "<matplotlib.legend.Legend at 0x7febb6933190>"
      ]
     },
     "execution_count": 60,
     "metadata": {},
     "output_type": "execute_result"
    },
    {
     "data": {
      "image/png": "[encoded data removed]",
      "text/plain": [
       "<Figure size 640x480 with 1 Axes>"
      ]
     },
     "metadata": {},
     "output_type": "display_data"
    }
   ],
   "source": [
    "plt.plot(train_losses)\n",
    "plt.plot(test_losses)\n",
    "plt.legend(['Train Loss', 'Test Loss'])"
   ]
  },
  {
   "cell_type": "code",
   "execution_count": 61,
   "metadata": {},
   "outputs": [
    {
     "data": {
      "text/plain": [
       "<matplotlib.legend.Legend at 0x7febb69cfe10>"
      ]
     },
     "execution_count": 61,
     "metadata": {},
     "output_type": "execute_result"
    },
    {
     "data": {
      "image/png": "[encoded data removed]",
      "text/plain": [
       "<Figure size 640x480 with 1 Axes>"
      ]
     },
     "metadata": {},
     "output_type": "display_data"
    }
   ],
   "source": [
    "plt.plot(train_accs)\n",
    "plt.plot(test_accs)\n",
    "plt.legend(['Train Acc', 'Test Acc'])"
   ]
  },
  {
   "cell_type": "markdown",
   "metadata": {
    "id": "dMui_uLJ7G0d",
    "pycharm": {
     "name": "#%% md\n"
    }
   },
   "source": [
    "### Conclusions:\n",
    "Как мы видим, довольно радикальное решение (в виде дропаута с большой вероятностью) помогает модели не переобучаться. Хотя следует отметить, что на таком простом датасете сложно не переобучиться хоть сколько нибудь простой модели."
   ]
  }
 ],
 "metadata": {
  "accelerator": "GPU",
  "colab": {
   "gpuType": "V100",
   "machine_shape": "hm",
   "provenance": []
  },
  "kernelspec": {
   "display_name": "Python 3 (ipykernel)",
   "language": "python",
   "name": "python3"
  },
  "language_info": {
   "codemirror_mode": {
    "name": "ipython",
    "version": 3
   },
   "file_extension": ".py",
   "mimetype": "text/x-python",
   "name": "python",
   "nbconvert_exporter": "python",
   "pygments_lexer": "ipython3",
   "version": "3.11.3"
  }
 },
 "nbformat": 4,
 "nbformat_minor": 1
}
