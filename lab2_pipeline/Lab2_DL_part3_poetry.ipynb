{
 "cells": [
  {
   "cell_type": "markdown",
   "metadata": {},
   "source": [
    "## Lab 2"
   ]
  },
  {
   "cell_type": "markdown",
   "metadata": {},
   "source": [
    "### Part 3. Poetry generation\n",
    "\n",
    "Let's try to generate some poetry using RNNs. \n",
    "\n",
    "You have several choices here: \n",
    "\n",
    "* The Shakespeare sonnets, file `sonnets.txt` available in the notebook directory.\n",
    "\n",
    "* Роман в стихах \"Евгений Онегин\" Александра Сергеевича Пушкина. В предобработанном виде доступен по [ссылке](https://github.com/attatrol/data_sources/blob/master/onegin.txt).\n",
    "\n",
    "* Some other text source, if it will be approved by the course staff.\n",
    "\n",
    "Text generation can be designed in several steps:\n",
    "    \n",
    "1. Data loading.\n",
    "2. Dictionary generation.\n",
    "3. Data preprocessing.\n",
    "4. Model (neural network) training.\n",
    "5. Text generation (model evaluation).\n"
   ]
  },
  {
   "cell_type": "code",
   "execution_count": 2,
   "metadata": {},
   "outputs": [],
   "source": [
    "import string\n",
    "import os\n",
    "import numpy as np"
   ]
  },
  {
   "cell_type": "markdown",
   "metadata": {},
   "source": [
    "### Data loading: Shakespeare"
   ]
  },
  {
   "cell_type": "markdown",
   "metadata": {},
   "source": [
    "Shakespeare sonnets are awailable at this [link](http://www.gutenberg.org/ebooks/1041?msg=welcome_stranger). In addition, they are stored in the same directory as this notebook (`sonnetes.txt`). Simple preprocessing is already done for you in the next cell: all technical info is dropped."
   ]
  },
  {
   "cell_type": "code",
   "execution_count": 3,
   "metadata": {},
   "outputs": [],
   "source": [
    "if not os.path.exists('sonnets.txt'):\n",
    "    !wget https://raw.githubusercontent.com/girafe-ai/ml-course/22f_basic/homeworks_basic/lab02_deep_learning/sonnets.txt\n",
    "\n",
    "with open('sonnets.txt', 'r') as iofile:\n",
    "    text = iofile.readlines()\n",
    "    \n",
    "TEXT_START = 45\n",
    "TEXT_END = -368\n",
    "text = text[TEXT_START : TEXT_END]\n",
    "assert len(text) == 2616"
   ]
  },
  {
   "cell_type": "markdown",
   "metadata": {},
   "source": [
    "In opposite to the in-class practice, this time we want to predict complex text. Let's reduce the complexity of the task and lowercase all the symbols.\n",
    "\n",
    "Now variable `text` is a list of strings. Join all the strings into one and lowercase it."
   ]
  },
  {
   "cell_type": "code",
   "execution_count": 4,
   "metadata": {},
   "outputs": [
    {
     "name": "stdout",
     "output_type": "stream",
     "text": [
      "OK!\n"
     ]
    }
   ],
   "source": [
    "sonnets = \"\".join(text).lower()\n",
    "\n",
    "assert len(sonnets) == 100225, 'Are you sure you have concatenated all the strings?'\n",
    "assert not any([x in set(sonnets) for x in string.ascii_uppercase]), 'Uppercase letters are present'\n",
    "print('OK!')"
   ]
  },
  {
   "cell_type": "code",
   "execution_count": 5,
   "metadata": {},
   "outputs": [
    {
     "data": {
      "text/plain": [
       "\"  from fairest creatures we desire increase,\\n  that thereby beauty's rose might never die,\\n  but as \""
      ]
     },
     "execution_count": 5,
     "metadata": {},
     "output_type": "execute_result"
    }
   ],
   "source": [
    "sonnets[:100]"
   ]
  },
  {
   "cell_type": "code",
   "execution_count": 6,
   "metadata": {},
   "outputs": [],
   "source": [
    "tokens = sorted(set(sonnets))\n",
    "id_to_token = {i: char for i, char in enumerate(tokens)}\n",
    "token_to_id = {char: i for i, char in enumerate(tokens)}"
   ]
  },
  {
   "cell_type": "markdown",
   "metadata": {},
   "source": [
    "### Data loading: \"Евгений Онегин\"\n"
   ]
  },
  {
   "cell_type": "code",
   "execution_count": 7,
   "metadata": {},
   "outputs": [],
   "source": [
    "if not os.path.exists('onegin.txt'):\n",
    "    !wget https://raw.githubusercontent.com/attatrol/data_sources/master/onegin.txt\n",
    "    \n",
    "with open('onegin.txt', 'r') as iofile:\n",
    "    text = iofile.readlines()\n",
    "    \n",
    "text = [x.replace('\\t\\t', '') for x in text]"
   ]
  },
  {
   "cell_type": "markdown",
   "metadata": {},
   "source": [
    "In opposite to the in-class practice, this time we want to predict complex text. Let's reduce the complexity of the task and lowercase all the symbols.\n",
    "\n",
    "Now variable `text` is a list of strings. Join all the strings into one and lowercase it."
   ]
  },
  {
   "cell_type": "code",
   "execution_count": 8,
   "metadata": {},
   "outputs": [],
   "source": [
    "onegin = \"\".join(text).lower()"
   ]
  },
  {
   "cell_type": "code",
   "execution_count": 9,
   "metadata": {},
   "outputs": [
    {
     "data": {
      "text/plain": [
       "'\\ni\\n\\n«мой дядя самых честных правил,\\nкогда не в шутку занемог,\\nон уважать себя заставил\\nи лучше выдум'"
      ]
     },
     "execution_count": 9,
     "metadata": {},
     "output_type": "execute_result"
    }
   ],
   "source": [
    "onegin[:100]"
   ]
  },
  {
   "cell_type": "markdown",
   "metadata": {},
   "source": [
    "Put all the characters, that you've seen in the text, into variable `tokens`."
   ]
  },
  {
   "cell_type": "code",
   "execution_count": 10,
   "metadata": {},
   "outputs": [
    {
     "data": {
      "text/plain": [
       "83"
      ]
     },
     "execution_count": 10,
     "metadata": {},
     "output_type": "execute_result"
    }
   ],
   "source": [
    "tokens = sorted(set(onegin))\n",
    "len(tokens)"
   ]
  },
  {
   "cell_type": "code",
   "execution_count": 11,
   "metadata": {},
   "outputs": [
    {
     "data": {
      "text/plain": [
       "['\\n',\n",
       " ' ',\n",
       " '!',\n",
       " '(',\n",
       " ')',\n",
       " ',',\n",
       " '-',\n",
       " '.',\n",
       " '5',\n",
       " '7',\n",
       " '8',\n",
       " '9',\n",
       " ':',\n",
       " ';',\n",
       " '?',\n",
       " '[',\n",
       " ']',\n",
       " '^',\n",
       " 'a',\n",
       " 'b',\n",
       " 'c',\n",
       " 'd',\n",
       " 'e',\n",
       " 'f',\n",
       " 'g',\n",
       " 'h',\n",
       " 'i',\n",
       " 'k',\n",
       " 'l',\n",
       " 'm',\n",
       " 'n',\n",
       " 'o',\n",
       " 'p',\n",
       " 'q',\n",
       " 'r',\n",
       " 's',\n",
       " 't',\n",
       " 'u',\n",
       " 'v',\n",
       " 'w',\n",
       " 'x',\n",
       " 'y',\n",
       " 'z',\n",
       " '«',\n",
       " '»',\n",
       " 'а',\n",
       " 'б',\n",
       " 'в',\n",
       " 'г',\n",
       " 'д',\n",
       " 'е',\n",
       " 'ж',\n",
       " 'з',\n",
       " 'и',\n",
       " 'й',\n",
       " 'к',\n",
       " 'л',\n",
       " 'м',\n",
       " 'н',\n",
       " 'о',\n",
       " 'п',\n",
       " 'р',\n",
       " 'с',\n",
       " 'т',\n",
       " 'у',\n",
       " 'ф',\n",
       " 'х',\n",
       " 'ц',\n",
       " 'ч',\n",
       " 'ш',\n",
       " 'щ',\n",
       " 'ъ',\n",
       " 'ы',\n",
       " 'ь',\n",
       " 'э',\n",
       " 'ю',\n",
       " 'я',\n",
       " 'ё',\n",
       " '–',\n",
       " '—',\n",
       " '’',\n",
       " '…',\n",
       " '€']"
      ]
     },
     "execution_count": 11,
     "metadata": {},
     "output_type": "execute_result"
    }
   ],
   "source": [
    "tokens[:]"
   ]
  },
  {
   "cell_type": "markdown",
   "metadata": {},
   "source": [
    "Create dictionary `token_to_idx = {<char>: <index>}` and dictionary `idx_to_token = {<index>: <char>}`"
   ]
  },
  {
   "cell_type": "code",
   "execution_count": 19,
   "metadata": {},
   "outputs": [],
   "source": [
    "idx_to_token = {i: char for i, char in enumerate(tokens)}\n",
    "token_to_idx = {char: i for i, char in enumerate(tokens)}"
   ]
  },
  {
   "cell_type": "markdown",
   "metadata": {},
   "source": [
    "*Comment: in this task we have only 38 different tokens, so let's use one-hot encoding.*"
   ]
  },
  {
   "cell_type": "code",
   "execution_count": 21,
   "metadata": {},
   "outputs": [],
   "source": [
    "def to_matrix(sentences, max_len = None, dtype='int32', batch_first=True):\n",
    "    max_len = max_len or max(map(len, sentences))\n",
    "    sentences_ix = np.zeros([len(sentences), max_len], dtype)\n",
    "\n",
    "    for i in range(len(sentences)): # Для всех слов которые передали функции\n",
    "        line_ix = [token_to_idx[c] for c in sentences[i]] #Кодируем слово\n",
    "        sentences_ix[i, :len(line_ix)] = line_ix[:max_len] #Вставляем закодированное слово в матр\n",
    "        # Вместо паддингов используем нули которые не меняются со времён формирования np.zeros\n",
    "    if not batch_first: \n",
    "        sentences_ix = np.transpose(sentences_ix) #Транспонируем\n",
    "\n",
    "    return sentences_ix"
   ]
  },
  {
   "cell_type": "code",
   "execution_count": 27,
   "metadata": {},
   "outputs": [
    {
     "data": {
      "text/plain": [
       "array([[25, 22, 28, 28, 31,  5,  1, 39, 31, 34, 28, 21]], dtype=int32)"
      ]
     },
     "execution_count": 27,
     "metadata": {},
     "output_type": "execute_result"
    }
   ],
   "source": [
    "to_matrix(['hello, world'], max_len = None, dtype='int32', batch_first=True)"
   ]
  },
  {
   "cell_type": "markdown",
   "metadata": {},
   "source": [
    "### Building the model"
   ]
  },
  {
   "cell_type": "code",
   "execution_count": 28,
   "metadata": {},
   "outputs": [],
   "source": [
    "import torch\n",
    "import torch.nn as nn\n",
    "import torchvision\n",
    "import torchvision.transforms as transforms\n",
    "import torch.nn.functional as F\n",
    "import torchsummary\n",
    "from IPython.display import clear_output\n",
    "from matplotlib import pyplot as plt\n",
    "from matplotlib.pyplot import figure\n",
    "import numpy as np\n",
    "import random\n",
    "\n",
    "device = 'cpu'"
   ]
  },
  {
   "cell_type": "markdown",
   "metadata": {},
   "source": [
    "Now we want to build and train recurrent neural net which would be able to something similar to Shakespeare's poetry.\n",
    "\n",
    "Let's use vanilla RNN, similar to the one created during the lesson."
   ]
  },
  {
   "cell_type": "code",
   "execution_count": 29,
   "metadata": {},
   "outputs": [
    {
     "data": {
      "text/plain": [
       "Parameter containing:\n",
       "tensor([[ 0.9954, -0.8658],\n",
       "        [ 0.2101,  0.1454],\n",
       "        [ 0.2511, -0.5010],\n",
       "        [-0.3462,  0.0614]], requires_grad=True)"
      ]
     },
     "execution_count": 29,
     "metadata": {},
     "output_type": "execute_result"
    }
   ],
   "source": [
    "embed = nn.Embedding(4,2)\n",
    "sample = torch.LongTensor([2])\n",
    "next(embed.parameters())"
   ]
  },
  {
   "cell_type": "code",
   "execution_count": 30,
   "metadata": {},
   "outputs": [
    {
     "data": {
      "text/plain": [
       "tensor([[ 0.2511, -0.5010]], grad_fn=<EmbeddingBackward0>)"
      ]
     },
     "execution_count": 30,
     "metadata": {},
     "output_type": "execute_result"
    }
   ],
   "source": [
    "embed(sample)\n",
    "#Т.е. это просто матрица эмбеддингов, которая из 4мерного пространства переводит в 2мерное.\n",
    "# В нашей задаче она из 38мерного пр-ва переводит в 64мерное"
   ]
  },
  {
   "cell_type": "code",
   "execution_count": 31,
   "metadata": {},
   "outputs": [],
   "source": [
    "class CharRNNCell(nn.Module):\n",
    "    #num_tokens -> размер словаря\n",
    "    #embedding_size -> размер Эмбеддингов\n",
    "    #rnn_num_units -> hidden size\n",
    "    def __init__(self, num_tokens=len(tokens), embedding_size=64, rnn_num_units=512):\n",
    "        super(self.__class__,self).__init__()\n",
    "        self.num_units = rnn_num_units\n",
    "        self.embedding = nn.Embedding(num_tokens, embedding_size)#Любое число от0до38 в 64мерн.в-р\n",
    "        self.rnn_update = nn.Linear(embedding_size + rnn_num_units, rnn_num_units)#Генерация h_t\n",
    "        self.rnn_to_logits = nn.Linear(rnn_num_units, num_tokens)#Линейный слой, принимающий h_t и выдающий 38 в-тей \n",
    "        \n",
    "    def forward(self, x, h_prev):\n",
    "        x_emb = self.embedding(x) #Input превразащется в набор эмбеддингов\n",
    "        x_and_h = torch.cat([x_emb.to(device), h_prev.to(device)], dim=-1)#Конкатенируется с hidden_state_{t-1}\n",
    "        h_next = self.rnn_update(x_and_h) #Обновляется hidden_state_{t}\n",
    "        h_next = torch.tanh(h_next) #Обновляется hidden_state_{t}      \n",
    "        logits = self.rnn_to_logits(h_next) #Новый hidden_state_{t} прогоняется через лин.слой для получения вероятностей\n",
    "        return h_next, F.log_softmax(logits, -1) \n",
    "        #Возвращаем новый hidden_state_{t} для исп-я его в след итерации + все в-ти след. буквы\n",
    "    \n",
    "    def initial_state(self, batch_size): #Инициализация hidden_state_{0}  \n",
    "        return torch.zeros(batch_size, self.num_units, device=device, requires_grad=True)"
   ]
  },
  {
   "cell_type": "code",
   "execution_count": 206,
   "metadata": {},
   "outputs": [],
   "source": [
    "char_rnn = CharRNNCell()\n",
    "criterion = nn.NLLLoss()\n",
    "opt = torch.optim.Adam(char_rnn.parameters(), lr=1e-2)\n",
    "\n",
    "def rnn_loop(char_rnn, batch_ix):#char_rnn-модель, batch_ix-длинная последовательность закодированных букв\n",
    "    batch_size, _ = batch_ix.size()#длина текста, 1. Тут под словом батч подразумевается размер букв кот подаётся\n",
    "    hid_state = char_rnn.initial_state(batch_size)#тензор (длина текста, hidden_size)\n",
    "    logprobs = []\n",
    "\n",
    "    for x_t in batch_ix.transpose(0, 1): #Начинаем бежать по буквам текста\n",
    "        hid_state, logp_next = char_rnn(x_t, hid_state)#И для каждой делаем шаг RNN\n",
    "        logprobs.append(logp_next) #Для каждой буквы, входящей в RNN мы получаем 83в-ти след буквы\n",
    "        # logprobs shape = (длина текста, размер словаря)\n",
    "    return torch.stack(logprobs, dim=1) #shape = (длина текста, 1, размер словаря)"
   ]
  },
  {
   "cell_type": "markdown",
   "metadata": {},
   "source": [
    "Plot the loss function (axis X: number of epochs, axis Y: loss function)."
   ]
  },
  {
   "cell_type": "code",
   "execution_count": 201,
   "metadata": {},
   "outputs": [],
   "source": [
    "# batch_ix = to_matrix(onegin) #Кодируем текст онегина\n",
    "# batch_ix = torch.tensor(batch_ix, dtype=torch.int64) #Переводим в тензор\n",
    "\n",
    "# logp_seq = rnn_loop(char_rnn, batch_ix.to(device)) #Прогоняем и получам тензор(len(onegin), 1, размер словаря)\n",
    "\n",
    "# predictions_logp = logp_seq[:, :-1] #Прогнозы след. токенов\n",
    "# actual_next_tokens = batch_ix[:, 1:] #Реальные токены которые шли на том этапе\n",
    "\n",
    "# loss = criterion(predictions_logp.contiguous().view(-1, len(tokens)), \n",
    "#                   actual_next_tokens.contiguous().view(-1)) #Переводим их к удобной для подсчёта лосса форме\n",
    "# print(loss)"
   ]
  },
  {
   "cell_type": "code",
   "execution_count": 207,
   "metadata": {},
   "outputs": [
    {
     "data": {
      "image/png": "[encoded data removed]",
      "text/plain": [
       "<Figure size 640x480 with 1 Axes>"
      ]
     },
     "metadata": {},
     "output_type": "display_data"
    }
   ],
   "source": [
    "loss_history = []\n",
    "\n",
    "for i in range(3000): #3000 циклов обучения\n",
    "    sub_str = []\n",
    "    #Генерим 128 фрагментов Онегина длиной 63 буквы\n",
    "    for _ in range(200):\n",
    "        # 128 раз генерим случ число от 0 до len(onegin) - 64 + 1\n",
    "        idx = random.randrange(0, len(onegin) - 100 + 1)\n",
    "        #В sub_str вставляем фрагмент текста, начиная с idx и + 63 буквы вперёд\n",
    "        sub_str.append(onegin[idx : (idx + 100)]) \n",
    "    \n",
    "    batch_ix = to_matrix(sub_str, max_len=100)#Кодируем это всё числами\n",
    "    batch_ix = torch.tensor(batch_ix, dtype=torch.int64)#Переводим в тензор shape(128, 64)\n",
    "    \n",
    "    #Прогоняем наши 128 отрывков длиной 64 буквы через RNN и получаем тензор(128, 64, 83)\n",
    "    #Это тензор прогнозов\n",
    "    logp_seq = rnn_loop(char_rnn, batch_ix)\n",
    "    \n",
    "    predictions_logp = logp_seq[:, :-1] #Логиты (возможно надо поставить запятую перед -1)\n",
    "    actual_next_tokens = batch_ix[:, 1:] #Реальные значения\n",
    "    # В лосс подаём логиты размером(128*64, длина словаря) и фактич. буквы shape([128*64])\n",
    "    # NLLLoss сам внутри себя берём макс значения из логитов и сопоставляет с прогнозами\n",
    "    loss = criterion(predictions_logp.contiguous().view(-1, len(tokens)), actual_next_tokens.contiguous().view(-1))\n",
    "    \n",
    "    loss.backward()\n",
    "    opt.step()\n",
    "    opt.zero_grad()\n",
    "    #loss_value = loss.data.cpu().numpy()\n",
    "    \n",
    "    loss_history.append(loss.data.cpu().numpy())\n",
    "    if (i + 1) % 100 == 0:\n",
    "        clear_output(True)\n",
    "        plt.plot(loss_history)\n",
    "        plt.xlabel('epochs')\n",
    "        plt.ylabel('loss')\n",
    "        plt.show()"
   ]
  },
  {
   "cell_type": "code",
   "execution_count": 212,
   "metadata": {},
   "outputs": [],
   "source": [
    "seed_phrase = 'чем меньше женщину мы любим'\n",
    "def generate_sample(char_rnn, seed_phrase=seed_phrase, max_length=MAX_LENGTH, temperature=1.0):\n",
    "    '''\n",
    "    ### Disclaimer: this is an example function for text generation.\n",
    "    ### You can either adapt it in your code or create your own function\n",
    "    \n",
    "    The function generates text given a phrase of length at least SEQ_LENGTH.\n",
    "    :param seed_phrase: prefix characters. The RNN is asked to continue the phrase\n",
    "    :param max_length: maximum output length, including seed_phrase\n",
    "    :param temperature: coefficient for sampling.  higher temperature produces more chaotic outputs, \n",
    "        smaller temperature converges to the single most likely output.\n",
    "        \n",
    "    Be careful with the model output. This model waits logits (not probabilities/log-probabilities)\n",
    "    of the next symbol.\n",
    "    '''\n",
    "    x_sequence = [token_to_idx[token] for token in seed_phrase] #Кодируем стартовую фразу\n",
    "    x_sequence = torch.tensor([x_sequence], dtype=torch.int64).to(device) #Переводим в тензор\n",
    "    hid_state = char_rnn.initial_state(batch_size=1) #Начальное скрытое состояние\n",
    "    \n",
    "    #Процесс изучения стартовой фразы\n",
    "    for i in range(len(seed_phrase) - 1): #Побуквенно скармливаем в RNN нашу стартовую фразу\n",
    "        hid_state, out = char_rnn(x_sequence[:, i], hid_state)\n",
    "    \n",
    "    #Процесс гереации текста длиной 'max_length' после стартовой фразы\n",
    "    for _ in range(max_length - len(seed_phrase)):\n",
    "        #Скармливаем последнюю букву стартовой фразы\n",
    "        hid_state, out = char_rnn(x_sequence[:, -1], hid_state) \n",
    "        #Оборачиваем в softmax\n",
    "        p_next = F.softmax(out / temperature, dim=-1).data.cpu().numpy()[0]\n",
    "        #Рандомный прогноз след буквы(токена)\n",
    "        next_ix = np.random.choice(len(tokens), p=p_next) \n",
    "        #Обрачиваем в тензор\n",
    "        next_ix = torch.tensor([[next_ix]], dtype=torch.int64).to(device) \n",
    "        #Засовываем в закодированный текст.На след итерации цикла мы её скормим нашей RNN и снова выберем новую букву\n",
    "        x_sequence = torch.cat([x_sequence, next_ix], dim=1) \n",
    "    # Переводим сгенерированную последовательность в текст\n",
    "    result = ''.join([tokens[ix] for ix in x_sequence.data.cpu().numpy()[0] if tokens[ix] != \"_\"])\n",
    "    \n",
    "    return result"
   ]
  },
  {
   "cell_type": "code",
   "execution_count": 213,
   "metadata": {},
   "outputs": [
    {
     "name": "stdout",
     "output_type": "stream",
     "text": [
      "чем меньше женщину мы любим еще отдав,\n",
      "убводился четован.\n",
      "поятом ноговор ей доля всё, бурей,\n",
      "ко яслесно ниждий с умливовогдо тво учер,\n",
      "любви мой, бердевье тревересший,\n",
      "кто быть, и юнотей;\n",
      "чтобный пад,\n",
      "весных (санье,\n",
      "ему, как я; пирою\n",
      "или и разверхи тан? я… ктонилсей зав\n"
     ]
    }
   ],
   "source": [
    "# An example of generated text.\n",
    "print(generate_sample(char_rnn, seed_phrase=seed_phrase, max_length=270, temperature=1.0))"
   ]
  },
  {
   "cell_type": "markdown",
   "metadata": {},
   "source": [
    "# Комментарий:\n",
    "Как мы видим, простой RNN сложно воссоздавать реальные слова. Скорее всего причиной этому является отсутствие возможности хранить долгосрочную память"
   ]
  },
  {
   "cell_type": "markdown",
   "metadata": {},
   "source": [
    "### More poetic model\n",
    "\n",
    "Let's use LSTM instead of vanilla RNN and compare the results."
   ]
  },
  {
   "cell_type": "code",
   "execution_count": 215,
   "metadata": {},
   "outputs": [],
   "source": [
    "class CharLSTMCell(nn.Module):\n",
    "    def __init__(self, num_tokens=len(tokens), emb_size=64, lstm_num_units=512):\n",
    "        super(self.__class__, self).__init__()\n",
    "        self.num_units = lstm_num_units #hidden size\n",
    "        self.emb = nn.Embedding(len(tokens), emb_size) #embedding layer(83->64)\n",
    "        self.lstm = nn.LSTM(emb_size, self.num_units, batch_first=True)#LSTM(input_size, hidden_size, num_layers=1)\n",
    "        \n",
    "        self.hid_to_logits = nn.Linear(self.num_units, num_tokens) #Перевод hidden в логиты\n",
    "\n",
    "    def forward(self, x, hidden=None):\n",
    "        #засовываем в lstm эмбеддинг буквы и hidden_state_{t-1}\n",
    "        h_seq, hidden = self.lstm(self.emb(x), hidden)\n",
    "        #пускаем h_seq в лин.слой и получаем логиты\n",
    "        next_logits = self.hid_to_logits(h_seq)\n",
    "        next_logp = F.log_softmax(next_logits, dim=-1)\n",
    "        return next_logp, hidden #Логиты, hidden_state\n",
    "\n",
    "    def initial_state(self, batch_size):# Инициализация стартового hidden_state_{0}\n",
    "        return torch.zeros(batch_size, self.num_units, device=device, requires_grad=True)"
   ]
  },
  {
   "cell_type": "markdown",
   "metadata": {},
   "source": [
    "Plot the loss function of the number of epochs. Does the final loss become better?"
   ]
  },
  {
   "cell_type": "code",
   "execution_count": 216,
   "metadata": {},
   "outputs": [],
   "source": [
    "char_lstm = CharLSTMCell().to(device)\n",
    "criterion = nn.NLLLoss()\n",
    "opt = torch.optim.Adam(char_lstm.parameters(), lr=3e-4)"
   ]
  },
  {
   "cell_type": "code",
   "execution_count": 217,
   "metadata": {},
   "outputs": [
    {
     "data": {
      "image/png": "[encoded data removed]",
      "text/plain": [
       "<Figure size 640x480 with 1 Axes>"
      ]
     },
     "metadata": {},
     "output_type": "display_data"
    }
   ],
   "source": [
    "lstm_loss_history = []\n",
    "\n",
    "for i in range(6000): #6т циклов обучения\n",
    "    train_string = []\n",
    "    for _ in range(128): #128 отрывков длиной 63\n",
    "        idx = random.randrange(0, len(onegin) - 64 + 1)\n",
    "        train_string.append(onegin[idx : (idx + 64)])\n",
    "    \n",
    "    batch_ix = to_matrix(train_string, max_len=64) #кодировка в числовую последовательность\n",
    "    batch_ix = torch.tensor(batch_ix, dtype=torch.int64)\n",
    "    \n",
    "    logp_seq, _ = char_lstm(batch_ix) #выход модели\n",
    "    predictions_logp = logp_seq[:, :-1] #прогнозы\n",
    "    actual_next_tokens = batch_ix[:, 1:]#факты\n",
    "    #подсчёт лосса\n",
    "    loss = criterion(predictions_logp.contiguous().view(-1, len(tokens)), actual_next_tokens.contiguous().view(-1))\n",
    "    \n",
    "    loss.backward()\n",
    "    opt.step()\n",
    "    opt.zero_grad()\n",
    "    \n",
    "    lstm_loss_history.append(loss.data.cpu().numpy())\n",
    "    if (i + 1) % 100 == 0:\n",
    "        clear_output(True)\n",
    "        plt.plot(lstm_loss_history)\n",
    "        plt.xlabel('epochs')\n",
    "        plt.ylabel('loss')\n",
    "        plt.show()"
   ]
  },
  {
   "cell_type": "markdown",
   "metadata": {},
   "source": [
    "# Комментарий:\n",
    "Как мы видим, даже 6000 обучающих итераций не хватило, что бы loss вышел на плато.Однако переучивать модель тоже не следует, так как она может запомнить весь текст."
   ]
  },
  {
   "cell_type": "markdown",
   "metadata": {},
   "source": [
    "Generate text using the trained net with different `temperature` parameter: `[0.1, 0.2, 0.5, 1.0, 2.0]`.\n",
    "\n",
    "Evaluate the results visually, try to interpret them."
   ]
  },
  {
   "cell_type": "code",
   "execution_count": 219,
   "metadata": {},
   "outputs": [],
   "source": [
    "seed_phrase='чем меньше женщину мы любим'\n",
    "def generate_sample_lstm(char_lstm, seed_phrase=seed_phrase, max_length=100, temperature=1.0):\n",
    "    x_sequence = [token_to_idx[token] for token in seed_phrase]#Кодировка стартовой последовательности\n",
    "    x_sequence = torch.tensor([x_sequence], dtype=torch.int64).to(device)#Перевод в тезор\n",
    "    \n",
    "    h_state = torch.zeros(1, 1, char_lstm.num_units, device=device) #Генерация краткосрочной памяти\n",
    "    c_state = torch.zeros(1, 1, char_lstm.num_units, device=device) #Генерация долгосрочной памяти\n",
    "\n",
    "    # Побуквенно скармливаем сети нашу seed_phrase\n",
    "    for i in range(len(seed_phrase) - 1):\n",
    "        _, (h_state, c_state) = char_lstm(x_sequence[:, i].unsqueeze(0), (h_state, c_state))\n",
    "\n",
    "    for i in range(max_length - len(seed_phrase)):\n",
    "        logits, (h_state, c_state) = char_lstm(x_sequence[:, -1].unsqueeze(0), (h_state, c_state))\n",
    "        p_next = F.softmax(logits / temperature, dim=-1).data.cpu().numpy()[0]\n",
    "        next_ix = np.random.choice(len(tokens), p=p_next.ravel())\n",
    "        next_ix = torch.tensor([[next_ix]], dtype=torch.int64).to(device)\n",
    "        x_sequence = torch.cat([x_sequence, next_ix], dim=1)\n",
    "\n",
    "    result = ''.join([tokens[ix] for ix in x_sequence.data.cpu().numpy()[0] if tokens[ix] != \"_\"])\n",
    "    return result\n"
   ]
  },
  {
   "cell_type": "code",
   "execution_count": 220,
   "metadata": {},
   "outputs": [
    {
     "name": "stdout",
     "output_type": "stream",
     "text": [
      "чем меньше женщину мы любим,\n",
      "тем легче насторул я встретя,\n",
      "в вас горей под ней не изменил\n",
      "он в пестях мое весел,\n",
      "я продочет с береговая,\n",
      "догоброй воленивый вздор,\n",
      "верной нет, ней девы слезы лью,\n",
      "твой огонья готовит слов,\n",
      "с досердца своенравие природной,\n",
      "не муза и луни были дале\n",
      "иль полно избрать с обедом,\n",
      "и сад и бледный прощали,\n",
      "осталася татьяна сполит;\n",
      "он в сельей вновь, не знает кона\n",
      "и в старой нет. о немогом\n",
      "зарецкий жизни ликаход,\n",
      "стал подобна пред ними слева,\n",
      "все длинных страстей руклах ур\n"
     ]
    }
   ],
   "source": [
    "result = generate_sample_lstm(char_lstm, seed_phrase='чем меньше женщину мы любим', max_length=500, temperature=0.1)\n",
    "print(result)"
   ]
  },
  {
   "cell_type": "code",
   "execution_count": 227,
   "metadata": {},
   "outputs": [
    {
     "name": "stdout",
     "output_type": "stream",
     "text": [
      "чем меньше женщину мы любим,\n",
      "тем любительно от рассейки млады,\n",
      "аль воспомир, и мельденица\n",
      "вот уж блистая, шайкает —\n",
      "и, невольно был он между тем\n",
      "не тоже теберный лорнатом\n",
      "и наконец от них отец\n",
      "из искал в салот себе вечар,\n",
      "или предстанет на что жена\n",
      "не всё, что в раздался и блажен,\n",
      "что там душа?» – «на слезот промлана\n",
      "во всех полет и в постеле\n",
      "ни к ним ro cesterabe и самов,\n",
      "всё вечалась о точки мил.\n",
      "\n",
      "\n",
      "\n",
      "xxvi\n",
      "\n",
      "«ужели татьяна понимать\n",
      "то делят и них на больше отрада,\n",
      "веселы приносит намечет,\n",
      "как буд\n"
     ]
    }
   ],
   "source": [
    "result = generate_sample_lstm(char_lstm, seed_phrase='чем меньше женщину мы любим', max_length=500, temperature=0.2)\n",
    "print(result)"
   ]
  },
  {
   "cell_type": "code",
   "execution_count": 224,
   "metadata": {},
   "outputs": [
    {
     "name": "stdout",
     "output_type": "stream",
     "text": [
      "чем меньше женщину мы любим;\n",
      "татьяно лени был дерденный души,\n",
      "в грандисон был голов и страдал,\n",
      "иль должны был обедом в самом\n",
      "друг дому ей онегин уж отворя\n",
      "сердца живы и начал.\n",
      "\n",
      "\n",
      "\n",
      "xi\n",
      "\n",
      "в том прозыбк е глупествованье,\n",
      "две согласиной в томите\n",
      "приходит про любовью угоду,\n",
      "девицы проходил он ее,\n",
      "и ворот в саду бледный ларин,\n",
      "извиже изменина;\n",
      "но в слезах лишь ее природной,\n",
      "татьяна бергенов, ни бал,\n",
      "но, недовлевь меня ободить,\n",
      "слава богою: друзья совестве,\n",
      "вот меня волнем обведалася,\n",
      "покамест в молвило о\n"
     ]
    }
   ],
   "source": [
    "result = generate_sample_lstm(char_lstm, seed_phrase='чем меньше женщину мы любим', max_length=500, temperature=0.5)\n",
    "print(result)"
   ]
  },
  {
   "cell_type": "code",
   "execution_count": 225,
   "metadata": {},
   "outputs": [
    {
     "name": "stdout",
     "output_type": "stream",
     "text": [
      "чем меньше женщину мы любим,\n",
      "тепер, потоми но моей\n",
      "забедит ровкивый он полю\n",
      "из мной сора твой ид уток.\n",
      "вот берет, всю вошле ветрелает\n",
      "и в сам покойникам возок:\n",
      "врайце он уж отворилась.\n",
      "\n",
      "\n",
      "\n",
      "xviii\n",
      "\n",
      "он равно дела; евгений,\n",
      "когда бы важный признанья,\n",
      "любви несною мечтанья,\n",
      "и наши верной новый рим;\n",
      "у с ольгой; и входит он\n",
      "увял сём ваши новигит:\n",
      "«огон! довит?». — «на moacett.\n",
      "из болеве, свой пиров\n",
      "непроссиженной брозви.\n",
      "\n",
      "\n",
      "\n",
      "xxxvi\n",
      "\n",
      "но полно изоть различать;\n",
      "старушки услажу я альма:\n",
      "стоит нам навсегда с х\n"
     ]
    }
   ],
   "source": [
    "result = generate_sample_lstm(char_lstm, seed_phrase='чем меньше женщину мы любим', max_length=500, temperature=1.0)\n",
    "print(result)"
   ]
  },
  {
   "cell_type": "code",
   "execution_count": 226,
   "metadata": {
    "scrolled": true
   },
   "outputs": [
    {
     "name": "stdout",
     "output_type": "stream",
     "text": [
      "чем меньше женщину мы любим,\n",
      "двеждайный? !менных четом?» —\n",
      "«вала терперсвое сновенья?\n",
      "чне тах мы сешей. трайум?\n",
      "\n",
      "x\n",
      "xxi\n",
      "хиа музою своекой,\n",
      "в женних кучишни, тстаки был:\n",
      "я -пнимати:ск, кто-а суждсе…).\n",
      "ма друм пьет?? кучае… : толвые цракй?»\n",
      "rervi.\n",
      "nan.\n",
      "аl\n",
      "\n",
      "и проледет мвог ведтечает цво?\n",
      "порой зярну созданья, двал.\n",
      "пусхой, слютснох, свечшей еей.\n",
      "\n",
      "\n",
      "\n",
      "асонся лгоюдшкяюги дворов живвирькливовыноков,\n",
      "б летс кеин),теск-ев-тико..\n",
      "а\n",
      "xиц-к ужигалю: поворуж!». —\n",
      "\n",
      "\n",
      "\n",
      "мучало; роковнурез.\n",
      "в, поют; кмучил тяжея?);\n",
      "\n"
     ]
    }
   ],
   "source": [
    "result = generate_sample_lstm(char_lstm, seed_phrase='чем меньше женщину мы любим', max_length=500, temperature=2.0)\n",
    "print(result)"
   ]
  },
  {
   "cell_type": "markdown",
   "metadata": {},
   "source": [
    "# Вывод :\n",
    "Чем меньше температура, тем больше вероятность выбора самого большого логита и как следствеие - более адекватный текст. При поднятии температуры растёт вероятность выбора не первого по величине логита, а 2,3 и тд. Это всё приводит к менее осмысленной генерации текста. Этот эффект можно наблюдать на примерах выше, где по мере увелдичения температуры мы начинаем получать всё менее адекватный текст."
   ]
  },
  {
   "cell_type": "markdown",
   "metadata": {},
   "source": [
    "### Saving and loading models"
   ]
  },
  {
   "cell_type": "markdown",
   "metadata": {},
   "source": [
    "Save the model to the disk, then load it and generate text. Examples are available [here](https://pytorch.org/tutorials/beginner/saving_loading_models.html])."
   ]
  },
  {
   "cell_type": "code",
   "execution_count": 223,
   "metadata": {},
   "outputs": [
    {
     "name": "stdout",
     "output_type": "stream",
     "text": [
      "придумывай, то день моя,\n",
      "татьяна встала в ней занимал,\n",
      "ответно всё беговые ли?\n",
      "давно утомить он малодит\n",
      "и утра не унылый друзья!\n",
      "его был разленить вас она.\n",
      "«как ты, мого даны. – «нать?». – «нак!». – «на как и мак!\n",
      "гда был потом падает —\n",
      "и, полно, тревно гоновор,\n",
      "иль про золот ее подвел\n",
      "теснулся он он не совор,\n",
      "и там же книгами знаком.\n",
      "\n",
      "\n",
      "\n",
      "xv\n",
      "\n",
      "но в он умы в себя с поредом,\n",
      "в деревне, скло назраз и б\n"
     ]
    }
   ],
   "source": [
    "# Saving and loading code here\n",
    "torch.save(char_lstm.state_dict(), 'char_lstm.pth')\n",
    "\n",
    "new_lstm = CharLSTMCell()\n",
    "new_lstm.load_state_dict(torch.load('char_lstm.pth'))\n",
    "\n",
    "result = generate_sample_lstm(new_lstm, seed_phrase='придумывай', max_length=400, temperature=0.1)\n",
    "print(result)"
   ]
  },
  {
   "cell_type": "markdown",
   "metadata": {},
   "source": [
    "### References\n",
    "1. <a href='http://karpathy.github.io/2015/05/21/rnn-effectiveness/'> Andrew Karpathy blog post about RNN. </a> \n",
    "There are several examples of genration: Shakespeare texts, Latex formulas, Linux Sourse Code and children names.\n",
    "2. <a href='https://github.com/karpathy/char-rnn'> Repo with char-rnn code </a>\n",
    "3. Cool repo with PyTorch examples: [link](https://github.com/spro/practical-pytorch`)"
   ]
  }
 ],
 "metadata": {
  "anaconda-cloud": {},
  "kernelspec": {
   "display_name": "Python 3 (ipykernel)",
   "language": "python",
   "name": "python3"
  },
  "language_info": {
   "codemirror_mode": {
    "name": "ipython",
    "version": 3
   },
   "file_extension": ".py",
   "mimetype": "text/x-python",
   "name": "python",
   "nbconvert_exporter": "python",
   "pygments_lexer": "ipython3",
   "version": "3.11.3"
  }
 },
 "nbformat": 4,
 "nbformat_minor": 2
}
