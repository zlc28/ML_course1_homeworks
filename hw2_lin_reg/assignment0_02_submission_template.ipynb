{
 "cells": [
  {
   "cell_type": "markdown",
   "metadata": {},
   "source": [
    "Before you submit this notebook, make sure everything runs as expected in the local test cases. \n",
    "Please, paste the solution to the designed cell and do not change anything else.\n",
    "\n",
    "Also, please, leave your first and last names below"
   ]
  },
  {
   "cell_type": "code",
   "execution_count": 1,
   "metadata": {},
   "outputs": [],
   "source": [
    "FirstName = \"Daniil\"\n",
    "LastName = \"Zelezetsky\""
   ]
  },
  {
   "cell_type": "markdown",
   "metadata": {},
   "source": [
    "---"
   ]
  },
  {
   "cell_type": "code",
   "execution_count": 2,
   "metadata": {},
   "outputs": [],
   "source": [
    "import sys\n",
    "\n",
    "import numpy as np\n",
    "import unittest\n",
    "import time\n",
    "\n",
    "import collections\n",
    "import pickle\n",
    "import io"
   ]
  },
  {
   "cell_type": "code",
   "execution_count": 3,
   "metadata": {
    "deletable": false,
    "nbgrader": {
     "cell_type": "code",
     "checksum": "ef05da190517118a9c577e378fd64fc2",
     "grade": false,
     "grade_id": "cell-ac8fc52d8a39ccb4",
     "locked": false,
     "schema_version": 3,
     "solution": true,
     "task": false
    }
   },
   "outputs": [],
   "source": [
    "import numpy as np\n",
    "\n",
    "from loss_and_derivatives import LossAndDerivatives\n"
   ]
  },
  {
   "cell_type": "markdown",
   "metadata": {},
   "source": [
    "### Test 0: Initialization (0.01 points)"
   ]
  },
  {
   "cell_type": "code",
   "execution_count": 4,
   "metadata": {
    "deletable": false,
    "editable": false,
    "nbgrader": {
     "cell_type": "code",
     "checksum": "a98be3ff4b18d890434a80e95638bae1",
     "grade": true,
     "grade_id": "cell-3473b7b6ffd64d07",
     "locked": true,
     "points": 0.01,
     "schema_version": 3,
     "solution": false,
     "task": false
    }
   },
   "outputs": [],
   "source": [
    "# do not change this cell\n",
    "loss_and_derivatives = LossAndDerivatives\n",
    "\n"
   ]
  },
  {
   "cell_type": "code",
   "execution_count": 5,
   "metadata": {},
   "outputs": [],
   "source": [
    "import json\n",
    "with open('boston_subset.json', 'r') as iofile:\n",
    "    dataset = json.load(iofile)\n",
    "feature_matrix = np.array(dataset['data'])\n",
    "targets = np.array(dataset['target'])\n",
    "\n",
    "w = np.array([1., 1.])\n",
    "x_n, y_n = feature_matrix, targets\n",
    "\n",
    "# Repeating data to make everything multi-dimentional\n",
    "w = np.vstack([w[None, :] + 0.27, w[None, :] + 0.22, w[None, :] + 0.45, w[None, :] + 0.1]).T\n",
    "y_n = np.hstack([y_n[:, None], 2*y_n[:, None], 3*y_n[:, None], 4*y_n[:, None]])"
   ]
  },
  {
   "cell_type": "markdown",
   "metadata": {},
   "source": [
    "### Test 1: MSE derivative (0.24 points)"
   ]
  },
  {
   "cell_type": "code",
   "execution_count": 6,
   "metadata": {},
   "outputs": [],
   "source": [
    "X_ref = x_n\n",
    "y_ref = y_n\n",
    "w_hat = w\n",
    "\n",
    "\n",
    "\n",
    "\n",
    "reference_mse_derivative = np.array([\n",
    "    [ 7.32890068, 12.88731311, 18.82128365, 23.97731238],\n",
    "    [ 9.55674399, 17.05397661, 24.98807528, 32.01723714]\n",
    "])\n",
    "reference_l2_reg_derivative = np.array([\n",
    "    [2.54, 2.44, 2.9 , 2.2 ],\n",
    "    [2.54, 2.44, 2.9 , 2.2 ]\n",
    "])\n",
    "reference_mae_derivative = np.array([\n",
    "    [0.19708867, 0.19621798, 0.19621798, 0.19572906],\n",
    "    [0.25574138, 0.25524507, 0.25524507, 0.25406404]\n",
    "])\n",
    "reference_l1_reg_derivative = np.array([\n",
    "    [1., 1., 1., 1.],\n",
    "    [1., 1., 1., 1.]\n",
    "])\n",
    "\n",
    "\n",
    "\n",
    "\n",
    "ref_dict = {'mse_derivative':reference_mse_derivative,'mae_derivative':reference_mae_derivative,\n",
    "            'l2_reg_derivative':reference_l2_reg_derivative,'l1_reg_derivative':reference_l1_reg_derivative}"
   ]
  },
  {
   "cell_type": "code",
   "execution_count": 7,
   "metadata": {
    "deletable": false,
    "editable": false,
    "nbgrader": {
     "cell_type": "code",
     "checksum": "0647ec1f1217cd0161950529355d0484",
     "grade": true,
     "grade_id": "cell-e3503c286039ec55",
     "locked": true,
     "points": 0.24,
     "schema_version": 3,
     "solution": false,
     "task": false
    }
   },
   "outputs": [],
   "source": [
    "mse_derivative = LossAndDerivatives.mse_derivative(X_ref, y_ref, w_hat)\n",
    "assert np.allclose(mse_derivative, ref_dict['mse_derivative'], atol=1e-4)"
   ]
  },
  {
   "cell_type": "markdown",
   "metadata": {},
   "source": [
    "### Test 2: MAE derivative (0.25 points)"
   ]
  },
  {
   "cell_type": "code",
   "execution_count": 8,
   "metadata": {
    "deletable": false,
    "editable": false,
    "nbgrader": {
     "cell_type": "code",
     "checksum": "f05ee94b6387df0e7ed0336245082461",
     "grade": true,
     "grade_id": "cell-e2c4124a6f815118",
     "locked": true,
     "points": 0.25,
     "schema_version": 3,
     "solution": false,
     "task": false
    }
   },
   "outputs": [],
   "source": [
    "mae_derivative = LossAndDerivatives.mae_derivative(X_ref, y_ref, w_hat)\n",
    "assert np.allclose(mae_derivative, ref_dict['mae_derivative'], atol=1e-4)"
   ]
  },
  {
   "cell_type": "markdown",
   "metadata": {},
   "source": [
    "### Test 3: L1 reg derivative (0.15 points)"
   ]
  },
  {
   "cell_type": "code",
   "execution_count": 9,
   "metadata": {
    "deletable": false,
    "editable": false,
    "nbgrader": {
     "cell_type": "code",
     "checksum": "8b101bf7c2bb674e5ad26dafe450781b",
     "grade": true,
     "grade_id": "cell-69473387a23d8dff",
     "locked": true,
     "points": 0.15,
     "schema_version": 3,
     "solution": false,
     "task": false
    }
   },
   "outputs": [],
   "source": [
    "l2_reg_derivative = LossAndDerivatives.l2_reg_derivative(w_hat)\n",
    "assert np.allclose(l2_reg_derivative, ref_dict['l2_reg_derivative'], atol=1e-4)"
   ]
  },
  {
   "cell_type": "markdown",
   "metadata": {},
   "source": [
    "### Test 4: L1 reg derivative (0.15 points)"
   ]
  },
  {
   "cell_type": "code",
   "execution_count": 10,
   "metadata": {
    "deletable": false,
    "editable": false,
    "nbgrader": {
     "cell_type": "code",
     "checksum": "205f29e8c5727c60ff129ce0bfe89ecf",
     "grade": true,
     "grade_id": "cell-3460671ba79fd04a",
     "locked": true,
     "points": 0.15,
     "schema_version": 3,
     "solution": false,
     "task": false
    }
   },
   "outputs": [],
   "source": [
    "l1_reg_derivative = LossAndDerivatives.l1_reg_derivative(w_hat)\n",
    "assert np.allclose(l1_reg_derivative, ref_dict['l1_reg_derivative'], atol=1e-4)"
   ]
  },
  {
   "cell_type": "markdown",
   "metadata": {},
   "source": [
    "# НАЧИНАЯ СО СЛЕД. ЯЧЕЕК БУДУТ ВЫПАДАТЬ ОШИБКИ ТАК КАК В ДЗ\n",
    "# НЕ ЗАДАНЫ ПЕРЕМЕННЫЕ mse mae l1reg и l2reg"
   ]
  },
  {
   "cell_type": "markdown",
   "metadata": {},
   "source": [
    "### Test 5: MSE (0.05 points)"
   ]
  },
  {
   "cell_type": "code",
   "execution_count": 11,
   "metadata": {
    "deletable": false,
    "editable": false,
    "nbgrader": {
     "cell_type": "code",
     "checksum": "5a986e8b66ceb8734057c78e8cabcfaa",
     "grade": true,
     "grade_id": "cell-5d56bb4222ee1e7c",
     "locked": true,
     "points": 0.05,
     "schema_version": 3,
     "solution": false,
     "task": false
    }
   },
   "outputs": [
    {
     "ename": "KeyError",
     "evalue": "'mse'",
     "output_type": "error",
     "traceback": [
      "\u001b[0;31m---------------------------------------------------------------------------\u001b[0m",
      "\u001b[0;31mKeyError\u001b[0m                                  Traceback (most recent call last)",
      "Cell \u001b[0;32mIn[11], line 2\u001b[0m\n\u001b[1;32m      1\u001b[0m mse \u001b[38;5;241m=\u001b[39m LossAndDerivatives\u001b[38;5;241m.\u001b[39mmse(X_ref, y_ref, w_hat)\n\u001b[0;32m----> 2\u001b[0m \u001b[38;5;28;01massert\u001b[39;00m np\u001b[38;5;241m.\u001b[39mallclose(mse, ref_dict[\u001b[38;5;124m'\u001b[39m\u001b[38;5;124mmse\u001b[39m\u001b[38;5;124m'\u001b[39m], atol\u001b[38;5;241m=\u001b[39m\u001b[38;5;241m1e-4\u001b[39m)\n",
      "\u001b[0;31mKeyError\u001b[0m: 'mse'"
     ]
    }
   ],
   "source": [
    "mse = LossAndDerivatives.mse(X_ref, y_ref, w_hat)\n",
    "assert np.allclose(mse, ref_dict['mse'], atol=1e-4)"
   ]
  },
  {
   "cell_type": "markdown",
   "metadata": {},
   "source": [
    "### Test 6: MAE (0.05 points)"
   ]
  },
  {
   "cell_type": "code",
   "execution_count": null,
   "metadata": {
    "deletable": false,
    "editable": false,
    "nbgrader": {
     "cell_type": "code",
     "checksum": "de373f459ca5fb9264bdb6e410bd7d0b",
     "grade": true,
     "grade_id": "cell-8155e619427ac916",
     "locked": true,
     "points": 0.05,
     "schema_version": 3,
     "solution": false,
     "task": false
    }
   },
   "outputs": [],
   "source": [
    "mae = LossAndDerivatives.mae(X_ref, y_ref, w_hat)\n",
    "assert np.allclose(mae, ref_dict['mae'], atol=1e-4)"
   ]
  },
  {
   "cell_type": "markdown",
   "metadata": {},
   "source": [
    "### Test 7: L2 reg (0.05 points)"
   ]
  },
  {
   "cell_type": "code",
   "execution_count": null,
   "metadata": {
    "deletable": false,
    "editable": false,
    "nbgrader": {
     "cell_type": "code",
     "checksum": "d0d2e9f6fa17691c83c2620821efa555",
     "grade": true,
     "grade_id": "cell-c7ccfce79ecbadc3",
     "locked": true,
     "points": 0.05,
     "schema_version": 3,
     "solution": false,
     "task": false
    }
   },
   "outputs": [],
   "source": [
    "l2_reg = LossAndDerivatives.l2_reg(w_hat)\n",
    "assert np.allclose(l2_reg, ref_dict['l2_reg'], atol=1e-4)"
   ]
  },
  {
   "cell_type": "markdown",
   "metadata": {},
   "source": [
    "### Test 8: L1 reg (0.05 points)"
   ]
  },
  {
   "cell_type": "code",
   "execution_count": null,
   "metadata": {
    "deletable": false,
    "editable": false,
    "nbgrader": {
     "cell_type": "code",
     "checksum": "8712dc1bb12b1dfd6605ab1e61e024c4",
     "grade": true,
     "grade_id": "cell-1e1aa415f6d381f7",
     "locked": true,
     "points": 0.05,
     "schema_version": 3,
     "solution": false,
     "task": false
    }
   },
   "outputs": [],
   "source": [
    "l1_reg = LossAndDerivatives.l1_reg(w_hat)\n",
    "assert np.allclose(l1_reg, ref_dict['l1_reg'], atol=1e-4)   "
   ]
  }
 ],
 "metadata": {
  "kernelspec": {
   "display_name": "Python 3 (ipykernel)",
   "language": "python",
   "name": "python3"
  },
  "language_info": {
   "codemirror_mode": {
    "name": "ipython",
    "version": 3
   },
   "file_extension": ".py",
   "mimetype": "text/x-python",
   "name": "python",
   "nbconvert_exporter": "python",
   "pygments_lexer": "ipython3",
   "version": "3.11.3"
  }
 },
 "nbformat": 4,
 "nbformat_minor": 4
}
